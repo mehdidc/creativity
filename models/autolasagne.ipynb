{
 "metadata": {
  "name": "",
  "signature": "sha256:ddc5255ecc7ef3681a9321c367c2e073d62f795d8ce3f1331dee22e7bbcd3c2a"
 },
 "nbformat": 3,
 "nbformat_minor": 0,
 "worksheets": [
  {
   "cells": [
    {
     "cell_type": "code",
     "collapsed": true,
     "input": [
      "from lasagne import easy\n",
      "import lasagne\n",
      "import lasagne.data\n",
      "import theano.tensor as T\n",
      "import theano\n",
      "import os\n",
      "import numpy as np\n",
      "import time\n",
      "\n",
      "\n",
      "\n",
      "from lasagne import easy\n",
      "import copy\n",
      "import lasagne\n",
      "import lasagne.data\n",
      "import theano.tensor as T\n",
      "import theano\n",
      "import os\n",
      "import numpy as np\n",
      "import time\n",
      "\n",
      "from lasagne.layers.dense import DenseLayer\n",
      "from lasagne.layers.base import Layer\n",
      "\n",
      "from pylearn2.scripts import plot_weights\n",
      "\n",
      "import matplotlib.pyplot as plt\n",
      "\n",
      "%matplotlib inline"
     ],
     "language": "python",
     "metadata": {},
     "outputs": [],
     "prompt_number": 96
    },
    {
     "cell_type": "code",
     "collapsed": false,
     "input": [],
     "language": "python",
     "metadata": {},
     "outputs": [],
     "prompt_number": 80
    },
    {
     "cell_type": "code",
     "collapsed": false,
     "input": [
      "def build_model(x_dim, y_dim, num_hidden):\n",
      "    l_x_in = lasagne.layers.InputLayer(\n",
      "            shape=(None, x_dim),\n",
      "        )\n",
      "    l_y_in = lasagne.layers.InputLayer(\n",
      "            shape=(None, y_dim),\n",
      "        )\n",
      "    \n",
      "    l_hidden_x = lasagne.layers.DenseLayer(\n",
      "        l_x_in,\n",
      "        num_units=num_hidden,\n",
      "        nonlinearity=lasagne.nonlinearities.rectify,\n",
      "    )\n",
      "\n",
      "    l_x_hat = lasagne.layers.DenseLayer(\n",
      "        l_hidden_x,\n",
      "        num_units=x_dim,\n",
      "        nonlinearity=lasagne.nonlinearities.sigmoid,\n",
      "    )\n",
      "    \n",
      "    l_y_hat = lasagne.layers.DenseLayer(\n",
      "        l_hidden_x,\n",
      "        num_units = y_dim,\n",
      "        nonlinearity=lasagne.nonlinearities.tanh\n",
      "    )\n",
      "\n",
      "    return l_x_in, l_y_in, l_hidden_x, l_x_hat, l_y_hat\n",
      "\n",
      "def objective(X_batch, y_batch, x_hat, y_hat):\n",
      "    #s =  - T.mean(T.log(y_hat)[T.arange(y_batch.shape[0]), y_batch])\n",
      "    return T.mean((X_batch - x_hat)**2)  + T.mean( (y_batch - y_hat)**2 )"
     ],
     "language": "python",
     "metadata": {},
     "outputs": [],
     "prompt_number": 81
    },
    {
     "cell_type": "code",
     "collapsed": true,
     "input": [
      "class Experiment(lasagne.easy.Experiment):\n",
      "\n",
      "    def __init__(self):\n",
      "        pass\n",
      "\n",
      "    def load_data(self):\n",
      "        datasets = lasagne.data.Mnist()\n",
      "        datasets.load(ratio_valid=0.2)\n",
      "\n",
      "        for d in datasets.values():\n",
      "            d.y = theano.shared(lasagne.utils.floatX(lasagne.easy.to_hamming(d.y.get_value(), presence=1, absence=-1)))\n",
      "        self.train, self.valid, self.test =  datasets[\"train\"], datasets[\"valid\"], datasets[\"test\"]\n",
      "    \n",
      "    def set_hp(self):\n",
      "        \n",
      "        self.learning_rate, self.momentum = 0.6, 0.8\n",
      "\n",
      "        self.input_dim = self.train.X.get_value().shape[1]\n",
      "        self.output_dim  = 10\n",
      "        self.batch_size = 100\n",
      "        self.x_hidden_units = 50\n",
      "        self.nb_batches = self.train.X.get_value().shape[0] // self.batch_size\n",
      "        self.nb_epochs = 30\n",
      "    \n",
      "    def build_model(self):\n",
      "        \n",
      "        self.batch_index, self.X_batch, self.y_batch, self.batch_slice = easy.get_theano_batch_variables(self.batch_size, \n",
      "                                                                                                         y_softmax=False)\n",
      "        \n",
      "\n",
      "        # build model\n",
      "        self.l_x_in, self.l_y_in, self.l_hidden_x, self.l_x_hat, self.l_y_hat = build_model(self.input_dim, self.output_dim, self.x_hidden_units)\n",
      "\n",
      "        # get the loss\n",
      "        self.loss = objective(self.X_batch,\n",
      "                              self.y_batch,\n",
      "                              self.l_x_hat.get_output(self.X_batch),\n",
      "                              self.l_y_hat.get_output({self.l_x_in : self.X_batch, self.l_y_in : self.y_batch}))\n",
      "        self.get_loss = theano.function([self.X_batch, self.y_batch], self.loss)\n",
      "        self.get_reconstruction = theano.function([self.X_batch],\n",
      "                                                   self.l_x_hat.get_output(self.X_batch))\n",
      "\n",
      "        from theano.sandbox.rng_mrg import MRG_RandomStreams\n",
      "        \n",
      "        random_stream = MRG_RandomStreams(2014 * 5 + 27)\n",
      "        X_batch_prime = T.matrix('xprime')\n",
      "\n",
      "        \"\"\"\n",
      "        nb = T.iscalar('nb')\n",
      "        weights = (random_stream.uniform(low=0, high=1, size=(X_batch_prime.shape[0], nb) ) *\n",
      "                   random_stream.binomial(n=1, p=0.0001, size=(X_batch_prime.shape[0], nb)) )\n",
      "        weights = weights / weights.sum(axis=0).reshape( (1, nb) )\n",
      "        self.generate = theano.function([X_batch_prime, nb],\n",
      "            self.l_x_hat.get_output({self.l_hidden_x : T.dot(self.l_hidden_x.get_output(X_batch_prime).T, weights).T})\n",
      "        )\n",
      "        \"\"\"\n",
      "\n",
      "        # get the gradient updates\n",
      "        all_params = lasagne.layers.get_all_params(self.l_x_hat)\n",
      "        #updates = lasagne.updates.nesterov_momentum(loss, all_params, learning_rate, momentum)\n",
      "        self.updates = lasagne.updates.adadelta(self.loss, all_params, learning_rate=self.learning_rate)\n",
      "        #updates = lasagne.updates.Adam(loss, all_params, learning_rate=learning_rate)\n",
      "\n",
      "        # get the iteration update\n",
      "        self.iter_update_batch = easy.get_iter_update_supervision(self.train.X, self.train.y, self.X_batch, self.y_batch,\n",
      "                                                                  self.loss, self.updates,\n",
      "                                                                  self.batch_index, self.batch_slice)\n",
      "        \n",
      "        \n",
      "    def run(self):\n",
      "        # Load data\n",
      "        train, valid, test = self.train, self.valid, self.test\n",
      "\n",
      "        def iter_update():\n",
      "            for i in xrange(self.nb_batches):\n",
      "                self.iter_update_batch(i)\n",
      "\n",
      "            loss_train = self.get_loss(train.X.get_value(), train.y.get_value())\n",
      "            loss_valid = self.get_loss(valid.X.get_value(), valid.y.get_value())\n",
      "            loss_test = self.get_loss(test.X.get_value(), test.y.get_value())\n",
      "            return {\"train\": loss_train, \"valid\": loss_valid, \"test\": loss_test}\n",
      "\n",
      "        def quitter(update_status):\n",
      "            return False\n",
      "\n",
      "        def monitor(update_status):\n",
      "            return update_status\n",
      "\n",
      "        def observer(monitor_output):\n",
      "            for k, v in monitor_output.items():\n",
      "                print(\"%s : %f\" % (k, v))\n",
      "\n",
      "        lasagne.easy.main_loop(self.nb_epochs, iter_update, quitter, monitor, observer)\n",
      "\n",
      "    def post(self):\n",
      "\n",
      "        #import matplotlib as mpl\n",
      "        #mpl.use('Agg')\n",
      "        \n",
      "\n",
      "        shape = (28, 28)\n",
      "\n",
      "        x_rec = self.get_reconstruction(self.train.X.get_value())\n",
      "        \n",
      "        nb = 10\n",
      "        k = 1\n",
      "        plt.axis('off')\n",
      "        for i in xrange(nb):\n",
      "\n",
      "            ind = i\n",
      "            x_i = self.train.X.get_value()[ind].reshape(shape)\n",
      "            x_rec_i = x_rec[ind].reshape(shape)\n",
      "\n",
      "            plt.subplot(nb, 2, k)\n",
      "            plt.imshow(x_i, cmap='gray')\n",
      "            k += 1\n",
      "            plt.subplot(nb, 2, k)\n",
      "            plt.imshow(x_rec_i, cmap='gray')\n",
      "            k += 1\n",
      "        plt.show()\n",
      "        \"\"\"\n",
      "        # generation\n",
      "        from pylearn2.scripts.plot_weights import grid_plot\n",
      "        x_gen = self.generate(train.X.get_value(), 30)\n",
      "        x_gen = x_gen.reshape( (x_gen.shape[0], shape[0], shape[1])  )\n",
      "        grid_plot(x_gen, imshow_options={\"cmap\": \"gray\"})\n",
      "\n",
      "        plt.savefig(\"mnist-gen.png\")\n",
      "\n",
      "        fd = open(\"model.pkl\", \"w\")\n",
      "        self.save(fd)\n",
      "        fd.close()\n",
      "        \"\"\"\n",
      "\n"
     ],
     "language": "python",
     "metadata": {},
     "outputs": [],
     "prompt_number": 97
    },
    {
     "cell_type": "code",
     "collapsed": false,
     "input": [
      "e = Experiment()"
     ],
     "language": "python",
     "metadata": {},
     "outputs": [],
     "prompt_number": 98
    },
    {
     "cell_type": "code",
     "collapsed": false,
     "input": [
      "e.load_data()"
     ],
     "language": "python",
     "metadata": {},
     "outputs": [],
     "prompt_number": 99
    },
    {
     "cell_type": "code",
     "collapsed": false,
     "input": [
      "e.set_hp()"
     ],
     "language": "python",
     "metadata": {},
     "outputs": [],
     "prompt_number": 100
    },
    {
     "cell_type": "code",
     "collapsed": false,
     "input": [
      "e.build_model()"
     ],
     "language": "python",
     "metadata": {},
     "outputs": [],
     "prompt_number": 101
    },
    {
     "cell_type": "code",
     "collapsed": false,
     "input": [
      "e.run()"
     ],
     "language": "python",
     "metadata": {},
     "outputs": [
      {
       "output_type": "stream",
       "stream": "stdout",
       "text": [
        "epoch : 0\n",
        "test : 0.165993"
       ]
      },
      {
       "output_type": "stream",
       "stream": "stdout",
       "text": [
        "\n",
        "train : 0.170259\n",
        "valid : 0.164992\n",
        "epoch : 1\n",
        "test : 0.148283"
       ]
      },
      {
       "output_type": "stream",
       "stream": "stdout",
       "text": [
        "\n",
        "train : 0.151866\n",
        "valid : 0.148022\n",
        "epoch : 2\n",
        "test : 0.138568"
       ]
      },
      {
       "output_type": "stream",
       "stream": "stdout",
       "text": [
        "\n",
        "train : 0.141665\n",
        "valid : 0.138581\n",
        "epoch : 3\n",
        "test : 0.132022"
       ]
      },
      {
       "output_type": "stream",
       "stream": "stdout",
       "text": [
        "\n",
        "train : 0.134680\n",
        "valid : 0.132204\n",
        "epoch : 4\n",
        "test : 0.127053"
       ]
      },
      {
       "output_type": "stream",
       "stream": "stdout",
       "text": [
        "\n",
        "train : 0.129270\n",
        "valid : 0.127321\n",
        "epoch : 5\n",
        "test : 0.122893"
       ]
      },
      {
       "output_type": "stream",
       "stream": "stdout",
       "text": [
        "\n",
        "train : 0.124762\n",
        "valid : 0.123379\n",
        "epoch : 6\n",
        "test : 0.119428"
       ]
      },
      {
       "output_type": "stream",
       "stream": "stdout",
       "text": [
        "\n",
        "train : 0.120953\n",
        "valid : 0.120050\n",
        "epoch : 7\n",
        "test : 0.116459"
       ]
      },
      {
       "output_type": "stream",
       "stream": "stdout",
       "text": [
        "\n",
        "train : 0.117663\n",
        "valid : 0.117164\n",
        "epoch : 8\n",
        "test : 0.113898"
       ]
      },
      {
       "output_type": "stream",
       "stream": "stdout",
       "text": [
        "\n",
        "train : 0.114808\n",
        "valid : 0.114665\n",
        "epoch : 9\n",
        "test : 0.111669"
       ]
      },
      {
       "output_type": "stream",
       "stream": "stdout",
       "text": [
        "\n",
        "train : 0.112309\n",
        "valid : 0.112479\n",
        "epoch : 10\n",
        "test : 0.109654"
       ]
      },
      {
       "output_type": "stream",
       "stream": "stdout",
       "text": [
        "\n",
        "train : 0.110063\n",
        "valid : 0.110521\n",
        "epoch : 11\n",
        "test : 0.107897"
       ]
      },
      {
       "output_type": "stream",
       "stream": "stdout",
       "text": [
        "\n",
        "train : 0.108061\n",
        "valid : 0.108769\n",
        "epoch : 12\n",
        "test : 0.106295"
       ]
      },
      {
       "output_type": "stream",
       "stream": "stdout",
       "text": [
        "\n",
        "train : 0.106221\n",
        "valid : 0.107166\n",
        "epoch : 13\n",
        "test : 0.104837"
       ]
      },
      {
       "output_type": "stream",
       "stream": "stdout",
       "text": [
        "\n",
        "train : 0.104540\n",
        "valid : 0.105720\n",
        "epoch : 14\n",
        "test : 0.103481"
       ]
      },
      {
       "output_type": "stream",
       "stream": "stdout",
       "text": [
        "\n",
        "train : 0.102976\n",
        "valid : 0.104376\n",
        "epoch : 15\n",
        "test : 0.102234"
       ]
      },
      {
       "output_type": "stream",
       "stream": "stdout",
       "text": [
        "\n",
        "train : 0.101534\n",
        "valid : 0.103134\n",
        "epoch : 16\n",
        "test : 0.101093"
       ]
      },
      {
       "output_type": "stream",
       "stream": "stdout",
       "text": [
        "\n",
        "train : 0.100203\n",
        "valid : 0.101998\n",
        "epoch : 17\n",
        "test : 0.099998"
       ]
      },
      {
       "output_type": "stream",
       "stream": "stdout",
       "text": [
        "\n",
        "train : 0.098941\n",
        "valid : 0.100903\n",
        "epoch : 18\n",
        "test : 0.098990"
       ]
      },
      {
       "output_type": "stream",
       "stream": "stdout",
       "text": [
        "\n",
        "train : 0.097767\n",
        "valid : 0.099905\n",
        "epoch : 19\n",
        "test : 0.098047"
       ]
      },
      {
       "output_type": "stream",
       "stream": "stdout",
       "text": [
        "\n",
        "train : 0.096660\n",
        "valid : 0.098956\n",
        "epoch : 20\n",
        "test : 0.097145"
       ]
      },
      {
       "output_type": "stream",
       "stream": "stdout",
       "text": [
        "\n",
        "train : 0.095615\n",
        "valid : 0.098047\n",
        "epoch : 21\n",
        "test : 0.096314"
       ]
      },
      {
       "output_type": "stream",
       "stream": "stdout",
       "text": [
        "\n",
        "train : 0.094639\n",
        "valid : 0.097207\n",
        "epoch : 22\n",
        "test : 0.095519"
       ]
      },
      {
       "output_type": "stream",
       "stream": "stdout",
       "text": [
        "\n",
        "train : 0.093716\n",
        "valid : 0.096411\n",
        "epoch : 23\n",
        "test : 0.094790"
       ]
      },
      {
       "output_type": "stream",
       "stream": "stdout",
       "text": [
        "\n",
        "train : 0.092840\n",
        "valid : 0.095669\n",
        "epoch : 24\n",
        "test : 0.094089"
       ]
      },
      {
       "output_type": "stream",
       "stream": "stdout",
       "text": [
        "\n",
        "train : 0.092017\n",
        "valid : 0.094963\n",
        "epoch : 25\n",
        "test : 0.093440"
       ]
      },
      {
       "output_type": "stream",
       "stream": "stdout",
       "text": [
        "\n",
        "train : 0.091238\n",
        "valid : 0.094305\n",
        "epoch : 26\n",
        "test : 0.092818"
       ]
      },
      {
       "output_type": "stream",
       "stream": "stdout",
       "text": [
        "\n",
        "train : 0.090501\n",
        "valid : 0.093678\n",
        "epoch : 27\n",
        "test : 0.092240"
       ]
      },
      {
       "output_type": "stream",
       "stream": "stdout",
       "text": [
        "\n",
        "train : 0.089807\n",
        "valid : 0.093097\n",
        "epoch : 28\n",
        "test : 0.091702"
       ]
      },
      {
       "output_type": "stream",
       "stream": "stdout",
       "text": [
        "\n",
        "train : 0.089139\n",
        "valid : 0.092547\n",
        "epoch : 29\n",
        "test : 0.091186"
       ]
      },
      {
       "output_type": "stream",
       "stream": "stdout",
       "text": [
        "\n",
        "train : 0.088506\n",
        "valid : 0.092031\n"
       ]
      }
     ],
     "prompt_number": 102
    },
    {
     "cell_type": "code",
     "collapsed": false,
     "input": [
      "e.post()"
     ],
     "language": "python",
     "metadata": {},
     "outputs": [
      {
       "ename": "NameError",
       "evalue": "global name 'train' is not defined",
       "output_type": "pyerr",
       "traceback": [
        "\u001b[1;31m---------------------------------------------------------------------------\u001b[0m\n\u001b[1;31mNameError\u001b[0m                                 Traceback (most recent call last)",
        "\u001b[1;32m<ipython-input-103-930dc17d54d2>\u001b[0m in \u001b[0;36m<module>\u001b[1;34m()\u001b[0m\n\u001b[1;32m----> 1\u001b[1;33m \u001b[0me\u001b[0m\u001b[1;33m.\u001b[0m\u001b[0mpost\u001b[0m\u001b[1;33m(\u001b[0m\u001b[1;33m)\u001b[0m\u001b[1;33m\u001b[0m\u001b[0m\n\u001b[0m",
        "\u001b[1;32m<ipython-input-97-2828f16a9c1e>\u001b[0m in \u001b[0;36mpost\u001b[1;34m(self)\u001b[0m\n\u001b[0;32m    101\u001b[0m         \u001b[0mshape\u001b[0m \u001b[1;33m=\u001b[0m \u001b[1;33m(\u001b[0m\u001b[1;36m28\u001b[0m\u001b[1;33m,\u001b[0m \u001b[1;36m28\u001b[0m\u001b[1;33m)\u001b[0m\u001b[1;33m\u001b[0m\u001b[0m\n\u001b[0;32m    102\u001b[0m \u001b[1;33m\u001b[0m\u001b[0m\n\u001b[1;32m--> 103\u001b[1;33m         \u001b[0mx_rec\u001b[0m \u001b[1;33m=\u001b[0m \u001b[0mself\u001b[0m\u001b[1;33m.\u001b[0m\u001b[0mget_reconstruction\u001b[0m\u001b[1;33m(\u001b[0m\u001b[0mtrain\u001b[0m\u001b[1;33m.\u001b[0m\u001b[0mX\u001b[0m\u001b[1;33m.\u001b[0m\u001b[0mget_value\u001b[0m\u001b[1;33m(\u001b[0m\u001b[1;33m)\u001b[0m\u001b[1;33m)\u001b[0m\u001b[1;33m\u001b[0m\u001b[0m\n\u001b[0m\u001b[0;32m    104\u001b[0m \u001b[1;33m\u001b[0m\u001b[0m\n\u001b[0;32m    105\u001b[0m         \u001b[0mnb\u001b[0m \u001b[1;33m=\u001b[0m \u001b[1;36m10\u001b[0m\u001b[1;33m\u001b[0m\u001b[0m\n",
        "\u001b[1;31mNameError\u001b[0m: global name 'train' is not defined"
       ]
      }
     ],
     "prompt_number": 103
    }
   ],
   "metadata": {}
  }
 ]
}