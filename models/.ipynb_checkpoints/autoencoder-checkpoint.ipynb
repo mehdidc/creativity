{
 "metadata": {
  "name": "",
  "signature": "sha256:891367c96694f7fd04c2c3fdcbd11a4c713a6a70a0c2567d702e4889308c58db"
 },
 "nbformat": 3,
 "nbformat_minor": 0,
 "worksheets": [
  {
   "cells": [
    {
     "cell_type": "code",
     "collapsed": false,
     "input": [
      "from pylearn2.datasets.fonts import Fonts\n",
      "from pylearn2.models.autoencoder import build_stacked_ae\n",
      "from pylearn2.config import yaml_parse\n",
      "from pylearn2.train import Train"
     ],
     "language": "python",
     "metadata": {},
     "outputs": [],
     "prompt_number": 20
    },
    {
     "cell_type": "code",
     "collapsed": false,
     "input": [
      "nvis = 12 * 12\n",
      "train_obj = build_stacked_ae(nvis, [10], 'sigmoid', 'sigmoid', tied_weights=True, irange=1e-3)"
     ],
     "language": "python",
     "metadata": {},
     "outputs": [],
     "prompt_number": 4
    },
    {
     "cell_type": "code",
     "collapsed": false,
     "input": [
      "print train_obj.model"
     ],
     "language": "python",
     "metadata": {},
     "outputs": [
      {
       "output_type": "stream",
       "stream": "stdout",
       "text": [
        "<pylearn2.train.Train object at 0x7ff793c442d0>\n"
       ]
      }
     ],
     "prompt_number": 26
    },
    {
     "cell_type": "code",
     "collapsed": false,
     "input": [
      "dataset = open(\"dataset.yaml\").read()\n",
      "\n",
      "algo = \"\"\"\n",
      "{\n",
      "   !obj:pylearn2.training_algorithms.sgd.SGD {\n",
      "        learning_rate : 1e-3,\n",
      "        batch_size : 100,\n",
      "     #   monitoring_batches : 10,\n",
      "     #   monitoring_dataset : *train,\n",
      "\n",
      "        cost : !obj:pylearn2.costs.autoencoder.MeanBinaryCrossEntropy {},\n",
      "        learning_rule : !obj:pylearn2.training_algorithms.learning_rule.Momentum {\n",
      "            init_momentum : 0.5,\n",
      "            nesterov_momentum : true\n",
      "        },\n",
      "        #learning_rule: !obj:pylearn2.training_algorithms.learning_rule.AdaDelta {},\n",
      "\n",
      "   update_callbacks:[\n",
      "    !obj:pylearn2.training_algorithms.sgd.ExponentialDecay {\n",
      "        decay_factor: 1.00001,\n",
      "        min_lr: 1e-3\n",
      "    }       \n",
      "   ],   \n",
      "\n",
      "       termination_criterion: !obj:pylearn2.termination_criteria.And {\n",
      "            criteria: [\n",
      "                !obj:pylearn2.termination_criteria.MonitorBased {\n",
      "                    channel_name: \"objective\",\n",
      "                    prop_decrease: 0.,\n",
      "                    N: 10\n",
      "                },\n",
      "                !obj:pylearn2.termination_criteria.EpochCounter {\n",
      "                    max_epochs: 200\n",
      "                }   \n",
      "            ]       \n",
      "        }           \n",
      "                \n",
      "                \n",
      "    }\n",
      "}\n",
      "        \n",
      "\"\"\"\n",
      "\n",
      "extensions = \"\"\"\n",
      " [\n",
      "        !obj:pylearn2.training_algorithms.learning_rule.MomentumAdjustor {\n",
      "            start: 20,\n",
      "            saturate: 100,\n",
      "            final_momentum: .9\n",
      "        }\n",
      " ]\n",
      "\"\"\"\n",
      "\n",
      "#algo = yaml_parse.load(algo)\n",
      "#extensions = yaml_parse.load(extensions)\n",
      "#dataset = yaml_parse.load(open(\"dataset.yaml\").read())\n",
      "\n",
      "#train_obj = Train(algorithm=algo, extensions=extensions, save_freq=1, \n",
      "#                  save_path=\"joint_model.pkl\", model=model, dataset=dataset)\n",
      "#train_obj.main_loop()"
     ],
     "language": "python",
     "metadata": {},
     "outputs": [],
     "prompt_number": 23
    },
    {
     "cell_type": "code",
     "collapsed": false,
     "input": [
      "train_obj.main_loop()"
     ],
     "language": "python",
     "metadata": {},
     "outputs": [
      {
       "ename": "AttributeError",
       "evalue": "'Train' object has no attribute 'get_monitoring_data_specs'",
       "output_type": "pyerr",
       "traceback": [
        "\u001b[1;31m---------------------------------------------------------------------------\u001b[0m\n\u001b[1;31mAttributeError\u001b[0m                            Traceback (most recent call last)",
        "\u001b[1;32m<ipython-input-24-f2f3e2e14850>\u001b[0m in \u001b[0;36m<module>\u001b[1;34m()\u001b[0m\n\u001b[1;32m----> 1\u001b[1;33m \u001b[0mtrain_obj\u001b[0m\u001b[1;33m.\u001b[0m\u001b[0mmain_loop\u001b[0m\u001b[1;33m(\u001b[0m\u001b[1;33m)\u001b[0m\u001b[1;33m\u001b[0m\u001b[0m\n\u001b[0m",
        "\u001b[1;32m/grid_mnt/vol__vol_U__u/gridcl/mehdicherti/work/code/pylearn2/pylearn2/train.pyc\u001b[0m in \u001b[0;36mmain_loop\u001b[1;34m(self, time_budget)\u001b[0m\n\u001b[0;32m    139\u001b[0m         \"\"\"\n\u001b[0;32m    140\u001b[0m         \u001b[0mt0\u001b[0m \u001b[1;33m=\u001b[0m \u001b[0mdatetime\u001b[0m\u001b[1;33m.\u001b[0m\u001b[0mnow\u001b[0m\u001b[1;33m(\u001b[0m\u001b[1;33m)\u001b[0m\u001b[1;33m\u001b[0m\u001b[0m\n\u001b[1;32m--> 141\u001b[1;33m         \u001b[0mself\u001b[0m\u001b[1;33m.\u001b[0m\u001b[0msetup\u001b[0m\u001b[1;33m(\u001b[0m\u001b[1;33m)\u001b[0m\u001b[1;33m\u001b[0m\u001b[0m\n\u001b[0m\u001b[0;32m    142\u001b[0m         \u001b[1;32mif\u001b[0m \u001b[0mself\u001b[0m\u001b[1;33m.\u001b[0m\u001b[0malgorithm\u001b[0m \u001b[1;32mis\u001b[0m \u001b[0mNone\u001b[0m\u001b[1;33m:\u001b[0m\u001b[1;33m\u001b[0m\u001b[0m\n\u001b[0;32m    143\u001b[0m             \u001b[0mself\u001b[0m\u001b[1;33m.\u001b[0m\u001b[0mrun_callbacks_and_monitoring\u001b[0m\u001b[1;33m(\u001b[0m\u001b[1;33m)\u001b[0m\u001b[1;33m\u001b[0m\u001b[0m\n",
        "\u001b[1;32m/grid_mnt/vol__vol_U__u/gridcl/mehdicherti/work/code/pylearn2/pylearn2/train.pyc\u001b[0m in \u001b[0;36msetup\u001b[1;34m(self)\u001b[0m\n\u001b[0;32m    116\u001b[0m         \u001b[0mscript\u001b[0m \u001b[0mthat\u001b[0m \u001b[0mreplaces\u001b[0m \u001b[0mthe\u001b[0m \u001b[0mmain\u001b[0m \u001b[0mloop\u001b[0m \u001b[1;32mwith\u001b[0m \u001b[0msomething\u001b[0m \u001b[1;32melse\u001b[0m\u001b[1;33m.\u001b[0m\u001b[1;33m\u001b[0m\u001b[0m\n\u001b[0;32m    117\u001b[0m         \"\"\"\n\u001b[1;32m--> 118\u001b[1;33m         \u001b[0mself\u001b[0m\u001b[1;33m.\u001b[0m\u001b[0mmodel\u001b[0m\u001b[1;33m.\u001b[0m\u001b[0mmonitor\u001b[0m \u001b[1;33m=\u001b[0m \u001b[0mMonitor\u001b[0m\u001b[1;33m.\u001b[0m\u001b[0mget_monitor\u001b[0m\u001b[1;33m(\u001b[0m\u001b[0mself\u001b[0m\u001b[1;33m.\u001b[0m\u001b[0mmodel\u001b[0m\u001b[1;33m)\u001b[0m\u001b[1;33m\u001b[0m\u001b[0m\n\u001b[0m\u001b[0;32m    119\u001b[0m         \u001b[0mself\u001b[0m\u001b[1;33m.\u001b[0m\u001b[0mmodel\u001b[0m\u001b[1;33m.\u001b[0m\u001b[0mmonitor\u001b[0m\u001b[1;33m.\u001b[0m\u001b[0mtime_budget_exceeded\u001b[0m \u001b[1;33m=\u001b[0m \u001b[0mFalse\u001b[0m\u001b[1;33m\u001b[0m\u001b[0m\n\u001b[0;32m    120\u001b[0m         \u001b[1;32mif\u001b[0m \u001b[0mself\u001b[0m\u001b[1;33m.\u001b[0m\u001b[0malgorithm\u001b[0m \u001b[1;32mis\u001b[0m \u001b[1;32mnot\u001b[0m \u001b[0mNone\u001b[0m\u001b[1;33m:\u001b[0m\u001b[1;33m\u001b[0m\u001b[0m\n",
        "\u001b[1;32m/grid_mnt/vol__vol_U__u/gridcl/mehdicherti/work/code/pylearn2/pylearn2/monitor.pyc\u001b[0m in \u001b[0;36mget_monitor\u001b[1;34m(cls, model)\u001b[0m\n\u001b[0;32m    758\u001b[0m             \u001b[0mrval\u001b[0m\u001b[1;33m.\u001b[0m\u001b[0m_sanity_check\u001b[0m\u001b[1;33m(\u001b[0m\u001b[1;33m)\u001b[0m\u001b[1;33m\u001b[0m\u001b[0m\n\u001b[0;32m    759\u001b[0m         \u001b[1;32melse\u001b[0m\u001b[1;33m:\u001b[0m\u001b[1;33m\u001b[0m\u001b[0m\n\u001b[1;32m--> 760\u001b[1;33m             \u001b[0mrval\u001b[0m \u001b[1;33m=\u001b[0m \u001b[0mMonitor\u001b[0m\u001b[1;33m(\u001b[0m\u001b[0mmodel\u001b[0m\u001b[1;33m)\u001b[0m\u001b[1;33m\u001b[0m\u001b[0m\n\u001b[0m\u001b[0;32m    761\u001b[0m             \u001b[0mmodel\u001b[0m\u001b[1;33m.\u001b[0m\u001b[0mmonitor\u001b[0m \u001b[1;33m=\u001b[0m \u001b[0mrval\u001b[0m\u001b[1;33m\u001b[0m\u001b[0m\n\u001b[0;32m    762\u001b[0m \u001b[1;33m\u001b[0m\u001b[0m\n",
        "\u001b[1;32m/grid_mnt/vol__vol_U__u/gridcl/mehdicherti/work/code/pylearn2/pylearn2/monitor.pyc\u001b[0m in \u001b[0;36m__init__\u001b[1;34m(self, model)\u001b[0m\n\u001b[0;32m     82\u001b[0m         \u001b[1;31m# Initialize self._nested_data_specs, self._data_specs_mapping,\u001b[0m\u001b[1;33m\u001b[0m\u001b[1;33m\u001b[0m\u001b[0m\n\u001b[0;32m     83\u001b[0m         \u001b[1;31m# and self._flat_data_specs\u001b[0m\u001b[1;33m\u001b[0m\u001b[1;33m\u001b[0m\u001b[0m\n\u001b[1;32m---> 84\u001b[1;33m         \u001b[0mself\u001b[0m\u001b[1;33m.\u001b[0m\u001b[0m_build_data_specs\u001b[0m\u001b[1;33m(\u001b[0m\u001b[1;33m)\u001b[0m\u001b[1;33m\u001b[0m\u001b[0m\n\u001b[0m\u001b[0;32m     85\u001b[0m \u001b[1;33m\u001b[0m\u001b[0m\n\u001b[0;32m     86\u001b[0m     \u001b[1;32mdef\u001b[0m \u001b[0m_build_data_specs\u001b[0m\u001b[1;33m(\u001b[0m\u001b[0mself\u001b[0m\u001b[1;33m)\u001b[0m\u001b[1;33m:\u001b[0m\u001b[1;33m\u001b[0m\u001b[0m\n",
        "\u001b[1;32m/grid_mnt/vol__vol_U__u/gridcl/mehdicherti/work/code/pylearn2/pylearn2/monitor.pyc\u001b[0m in \u001b[0;36m_build_data_specs\u001b[1;34m(self)\u001b[0m\n\u001b[0;32m     92\u001b[0m         \"\"\"\n\u001b[0;32m     93\u001b[0m         \u001b[1;31m# Ask the model what it needs\u001b[0m\u001b[1;33m\u001b[0m\u001b[1;33m\u001b[0m\u001b[0m\n\u001b[1;32m---> 94\u001b[1;33m         \u001b[0mm_space\u001b[0m\u001b[1;33m,\u001b[0m \u001b[0mm_source\u001b[0m \u001b[1;33m=\u001b[0m \u001b[0mself\u001b[0m\u001b[1;33m.\u001b[0m\u001b[0mmodel\u001b[0m\u001b[1;33m.\u001b[0m\u001b[0mget_monitoring_data_specs\u001b[0m\u001b[1;33m(\u001b[0m\u001b[1;33m)\u001b[0m\u001b[1;33m\u001b[0m\u001b[0m\n\u001b[0m\u001b[0;32m     95\u001b[0m         \u001b[0minput_spaces\u001b[0m \u001b[1;33m=\u001b[0m \u001b[1;33m[\u001b[0m\u001b[0mm_space\u001b[0m\u001b[1;33m]\u001b[0m\u001b[1;33m\u001b[0m\u001b[0m\n\u001b[0;32m     96\u001b[0m         \u001b[0minput_sources\u001b[0m \u001b[1;33m=\u001b[0m \u001b[1;33m[\u001b[0m\u001b[0mm_source\u001b[0m\u001b[1;33m]\u001b[0m\u001b[1;33m\u001b[0m\u001b[0m\n",
        "\u001b[1;31mAttributeError\u001b[0m: 'Train' object has no attribute 'get_monitoring_data_specs'"
       ]
      }
     ],
     "prompt_number": 24
    }
   ],
   "metadata": {}
  }
 ]
}