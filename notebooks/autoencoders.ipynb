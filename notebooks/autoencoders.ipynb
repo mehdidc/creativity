{
 "metadata": {
  "name": "",
  "signature": "sha256:63f44adbe5050bffefe3b79d322677deea1e5b6c01427bcc90e97c7cd20c5288"
 },
 "nbformat": 3,
 "nbformat_minor": 0,
 "worksheets": [
  {
   "cells": [
    {
     "cell_type": "code",
     "collapsed": false,
     "input": [
      "import numpy as np"
     ],
     "language": "python",
     "metadata": {},
     "outputs": [],
     "prompt_number": 1
    }
   ],
   "metadata": {}
  }
 ]
}