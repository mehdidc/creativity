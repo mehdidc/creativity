{
 "metadata": {
  "name": "",
  "signature": "sha256:cdd5ffbe3adf3b3bcc8873d3be4fe8b12b3e7b9ffe3812b023bc4d39cdbbeba2"
 },
 "nbformat": 3,
 "nbformat_minor": 0,
 "worksheets": [
  {
   "cells": [
    {
     "cell_type": "code",
     "collapsed": false,
     "input": [
      "from sklearn.neural_network import BernoulliRBM\n",
      "import numpy as np\n",
      "import matplotlib.pyplot as plt\n",
      "from sampling import sample\n",
      "%matplotlib inline\n",
      "import time\n",
      "\n",
      "from representation import show_representation, get_representation\n",
      "    "
     ],
     "language": "python",
     "metadata": {},
     "outputs": [],
     "prompt_number": 60
    },
    {
     "cell_type": "code",
     "collapsed": false,
     "input": [
      "hidden = (200,200,100)\n",
      "\n",
      "# build models\n",
      "models = []\n",
      "for layer in hidden:\n",
      "    rbm = BernoulliRBM(n_components=layer, n_iter=1000, verbose=False, learning_rate=0.2)\n",
      "    models.append(rbm)"
     ],
     "language": "python",
     "metadata": {},
     "outputs": [],
     "prompt_number": 61
    },
    {
     "cell_type": "code",
     "collapsed": false,
     "input": [
      "# load data\n",
      "data = np.load(\"../ds/ds_b_GF_clean.npy\")\n",
      "data = data.reshape( (data.shape[0], np.prod(data.shape[1:]) ) )"
     ],
     "language": "python",
     "metadata": {},
     "outputs": [],
     "prompt_number": 62
    },
    {
     "cell_type": "code",
     "collapsed": false,
     "input": [
      "# train data\n",
      "p = time.time()\n",
      "\n",
      "D = data\n",
      "for model in models:\n",
      "    model.fit(D)\n",
      "    D = model.transform(D)\n",
      "print \"took %.2fs to train\" % (time.time() - p)"
     ],
     "language": "python",
     "metadata": {},
     "outputs": [
      {
       "output_type": "stream",
       "stream": "stdout",
       "text": [
        "took 53.05s to train\n"
       ]
      }
     ],
     "prompt_number": 63
    },
    {
     "cell_type": "code",
     "collapsed": false,
     "input": [
      "# build  representations of layers\n",
      "\n",
      "h_k_output_units = (200,200,100)\n",
      "imsize = (16, 16)\n",
      "\n",
      "representations = []\n",
      "cur_model_repr = get_representation(models[0], None, imsize=imsize)\n",
      "representations.append(cur_model_repr)\n",
      "i = 0o\n",
      "for model in models[1:]:\n",
      "    cur_model_repr = get_representation(model, cur_model_repr, top=h_k_output_units[i])\n",
      "    representations.append(cur_model_repr)\n",
      "    i = i+1\n",
      "\n"
     ],
     "language": "python",
     "metadata": {},
     "outputs": [
      {
       "ename": "SyntaxError",
       "evalue": "invalid token (<ipython-input-64-f97433aa4fd9>, line 9)",
       "output_type": "pyerr",
       "traceback": [
        "\u001b[1;36m  File \u001b[1;32m\"<ipython-input-64-f97433aa4fd9>\"\u001b[1;36m, line \u001b[1;32m9\u001b[0m\n\u001b[1;33m    i = 0o\u001b[0m\n\u001b[1;37m         ^\u001b[0m\n\u001b[1;31mSyntaxError\u001b[0m\u001b[1;31m:\u001b[0m invalid token\n"
       ]
      }
     ],
     "prompt_number": 64
    },
    {
     "cell_type": "code",
     "collapsed": false,
     "input": [
      "# show representations of layers\n",
      "\n",
      "for r in representations:\n",
      "    show_representation(r)"
     ],
     "language": "python",
     "metadata": {},
     "outputs": []
    },
    {
     "cell_type": "code",
     "collapsed": false,
     "input": [
      "# Generate samples\n",
      "samples = []\n",
      "j = 0\n",
      "for model in models:\n",
      "    samples = sample(model, steps=100, nb_samples=80)\n",
      "    samples = np.array(samples)\n",
      "    samples = samples.reshape( (samples.shape[j], imsize[0], imsize[1]) )\n",
      "    show_representation(samples)\n",
      "    j = j =1\n",
      "    \n",
      "    "
     ],
     "language": "python",
     "metadata": {},
     "outputs": []
    },
    {
     "cell_type": "code",
     "collapsed": false,
     "input": [],
     "language": "python",
     "metadata": {},
     "outputs": []
    },
    {
     "cell_type": "code",
     "collapsed": false,
     "input": [],
     "language": "python",
     "metadata": {},
     "outputs": []
    },
    {
     "cell_type": "code",
     "collapsed": false,
     "input": [],
     "language": "python",
     "metadata": {},
     "outputs": []
    },
    {
     "cell_type": "code",
     "collapsed": false,
     "input": [],
     "language": "python",
     "metadata": {},
     "outputs": []
    },
    {
     "cell_type": "code",
     "collapsed": false,
     "input": [],
     "language": "python",
     "metadata": {},
     "outputs": []
    },
    {
     "cell_type": "code",
     "collapsed": false,
     "input": [],
     "language": "python",
     "metadata": {},
     "outputs": []
    }
   ],
   "metadata": {}
  }
 ]
}
